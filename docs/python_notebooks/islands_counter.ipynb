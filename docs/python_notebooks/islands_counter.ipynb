{
 "cells": [
  {
   "cell_type": "code",
   "execution_count": 44,
   "metadata": {},
   "outputs": [],
   "source": [
    "# '1' are land, '0' is water. Found the *number* of islands\n",
    "a = [[0,0,0,1,1],\n",
    "     [0,1,1,0,0],\n",
    "     [0,1,0,0,1],\n",
    "     [0,1,1,0,1],\n",
    "     [1,0,0,0,1]]"
   ]
  },
  {
   "cell_type": "code",
   "execution_count": 45,
   "metadata": {},
   "outputs": [],
   "source": [
    "# Let's try a DFS\n",
    "def created_visited(n,m):\n",
    "    row = [False]*m\n",
    "    arr = [row[:] for _ in range(n)]\n",
    "    return arr\n",
    "            \n",
    "def dfs(arr, i, j, visited):\n",
    "    if not (0 <= i < len(arr)):\n",
    "        return None\n",
    "    row = arr[i]\n",
    "    if not (0 <= j < len(row)):\n",
    "        return None \n",
    "    if visited[i][j]:\n",
    "        return None\n",
    "    visited[i][j] = True\n",
    "    if row[j]:\n",
    "        dfs(arr, i+1, j, visited)\n",
    "        dfs(arr, i, j+1, visited)\n",
    "        dfs(arr, i-1, j, visited)\n",
    "        dfs(arr, i, j-1, visited)\n",
    "    return bool(row[j])\n",
    "\n",
    "def run(arr):\n",
    "    n_islands = 0\n",
    "    n = len(arr)\n",
    "    m = len(arr[0])\n",
    "    visited = created_visited(n,m)\n",
    "    for i in range(n):\n",
    "        for j in range(m):\n",
    "            if visited[i][j]:\n",
    "                continue\n",
    "            r = dfs(arr,i,j,visited)\n",
    "            n_islands += int(r)\n",
    "    print('Number of islands: {}'.format(n_islands))"
   ]
  },
  {
   "cell_type": "code",
   "execution_count": 46,
   "metadata": {},
   "outputs": [
    {
     "name": "stdout",
     "output_type": "stream",
     "text": [
      "Number of islands: 4\n"
     ]
    }
   ],
   "source": [
    "run(a)"
   ]
  },
  {
   "cell_type": "code",
   "execution_count": null,
   "metadata": {},
   "outputs": [],
   "source": []
  }
 ],
 "metadata": {
  "kernelspec": {
   "display_name": "Python 3",
   "language": "python",
   "name": "python3"
  },
  "language_info": {
   "codemirror_mode": {
    "name": "ipython",
    "version": 3
   },
   "file_extension": ".py",
   "mimetype": "text/x-python",
   "name": "python",
   "nbconvert_exporter": "python",
   "pygments_lexer": "ipython3",
   "version": "3.5.4"
  }
 },
 "nbformat": 4,
 "nbformat_minor": 2
}
